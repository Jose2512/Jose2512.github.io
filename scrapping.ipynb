{
 "cells": [
  {
   "cell_type": "code",
   "execution_count": 13,
   "metadata": {},
   "outputs": [],
   "source": [
    "from bs4 import BeautifulSoup as bs\n",
    "import requests\n",
    "from splinter import Browser\n",
    "import time\n",
    "import pandas as pd\n",
    "import numpy as np\n",
    "from datetime import date\n",
    "\n",
    "executable_path = {\"executable_path\":\"chromedriver.exe\"}\n",
    "browser = Browser('chrome', **executable_path, headless=True)\n",
    "\n",
    "# URL of page to be scraped\n",
    "url = 'http://www.licigob.com.mx/cgi-bin/cupisa_optodhue93hefg8yu4iewfrgh.asp'\n",
    "\n",
    "# \n",
    "\n",
    "time.sleep(5)\n",
    "response = browser.html\n",
    "soup = bs(response.text, 'html.parser')\n",
    "\n",
    "results = soup.find_all('table')\n",
    "allrows = results[3].find_all(\"tr\")\n",
    "test_rows = allrows[1:]\n",
    "licitaciones = []\n",
    "row_counter = 0\n",
    "concurso_dict = {}\n",
    "for rows in test_rows:\n",
    "    data = rows.find_all(\"td\")\n",
    "    firsttext = data[0].text\n",
    "    if firsttext == \"Dependencia\":\n",
    "        pass\n",
    "    elif firsttext == \"Bases\":\n",
    "        link = rows.find(\"a\")[\"href\"]\n",
    "        concurso_dict[\"link\"] = link\n",
    "    elif len(data) > 3:\n",
    "        concurso_dict[\"interno\"] = \"CUPISA\"\n",
    "        concurso_dict[\"Dependencia\"] = data[0].text\n",
    "        concurso_dict[\"Lugar\"] = data[1].text\n",
    "        if data[2].text.strip() == \"\":\n",
    "            fechaactual = date.today().strftime(\"%d/%m/%Y\")\n",
    "            concurso_dict[\"fecha_de_publicacion\"] = fechaactual\n",
    "        else:\n",
    "            concurso_dict[\"fecha_de_publicacion\"] = data[2].text.strip()\n",
    "        concurso_dict[\"fecha_de_presentacion\"] = data[3].text\n",
    "        concurso_dict[\"Modalidad\"] = data[4].text\n",
    "        concurso_dict[\"Numero_de_procedimiento\"] = data[5].text\n",
    "    elif len(data) == 1:\n",
    "        concurso_dict[\"Descripcion\"] = data[0].text\n",
    "        licitaciones.append(concurso_dict)\n",
    "        concurso_dict = {}\n",
    "\n",
    "\n",
    "url = 'http://www.licigob.com.mx/cgi-bin/infineo_todfh298309qewtd672fgy354wte.asp'\n",
    "\n",
    "response = requests.get(url, timeout=(6, 6))\n",
    "time.sleep(5)\n",
    "response = browser.html\n",
    "soup = bs(response.text, 'html.parser')\n",
    "\n",
    "results = soup.find_all('table')\n",
    "allrows = results[3].find_all(\"tr\")\n",
    "test_rows = allrows[1:]\n",
    "row_counter = 0\n",
    "concurso_dict = {}\n",
    "for rows in test_rows:\n",
    "    data = rows.find_all(\"td\")\n",
    "    firsttext = data[0].text\n",
    "    if firsttext == \"Dependencia\":\n",
    "        pass\n",
    "    elif firsttext == \"Bases\":\n",
    "        link = rows.find(\"a\")[\"href\"]\n",
    "        concurso_dict[\"link\"] = link\n",
    "    elif len(data) > 3:\n",
    "        concurso_dict[\"interno\"] = \"URALES\"\n",
    "        concurso_dict[\"Dependencia\"] = data[0].text\n",
    "        concurso_dict[\"Lugar\"] = data[1].text\n",
    "        if data[2].text.strip() == \"\":\n",
    "            fechaactual = date.today().strftime(\"%d/%m/%Y\")\n",
    "            concurso_dict[\"fecha_de_publicacion\"] = fechaactual\n",
    "        else:\n",
    "            concurso_dict[\"fecha_de_publicacion\"] = data[2].text.strip()\n",
    "        concurso_dict[\"fecha_de_presentacion\"] = data[3].text\n",
    "        concurso_dict[\"Modalidad\"] = data[4].text\n",
    "        concurso_dict[\"Numero_de_procedimiento\"] = data[5].text\n",
    "    elif len(data) == 1:\n",
    "        concurso_dict[\"Descripcion\"] = data[0].text\n",
    "        licitaciones.append(concurso_dict)\n",
    "        concurso_dict = {}\n",
    "\n",
    "\n",
    "\n"
   ]
  },
  {
   "cell_type": "code",
   "execution_count": 14,
   "metadata": {},
   "outputs": [],
   "source": [
    "df = pd.DataFrame(licitaciones)\n",
    "df[\"unique\"] = df[\"Numero_de_procedimiento\"].duplicated()\n",
    "df.loc[df[\"unique\"] == True, \"interno\"] = \"COMBINADO\"\n",
    "df.drop(\"unique\", axis=1, inplace=True)\n",
    "df_nodup=df.drop_duplicates(\"Numero_de_procedimiento\", keep=\"last\")\n",
    "df_nodup[\"fecha_de_publicacion\"] = pd.to_datetime(df_nodup[\"fecha_de_publicacion\"], dayfirst=True,  format=\"%d/%m/%Y\")\n",
    "df_nodup[\"fecha_de_presentacion\"] = pd.to_datetime(df_nodup[\"fecha_de_presentacion\"], dayfirst=True,  format=\"%d/%m/%Y\")\n",
    "df_nodup.sort_values(by=[\"fecha_de_publicacion\"], ascending=False ,inplace=True)"
   ]
  },
  {
   "cell_type": "code",
   "execution_count": 15,
   "metadata": {},
   "outputs": [],
   "source": [
    "df_nodup[\"Nuevo\"] = \"No\""
   ]
  },
  {
   "cell_type": "code",
   "execution_count": 16,
   "metadata": {},
   "outputs": [],
   "source": [
    "from datetime import datetime, timedelta\n",
    "df_nodup.loc[df_nodup[\"fecha_de_publicacion\"] >= pd.to_datetime(date.today() - timedelta(days=2)), \"Nuevo\"] = \"Si\""
   ]
  },
  {
   "cell_type": "code",
   "execution_count": 17,
   "metadata": {},
   "outputs": [
    {
     "output_type": "execute_result",
     "data": {
      "text/plain": "  interno                     Dependencia    Lugar fecha_de_publicacion  \\\n0  CUPISA  Gobierno del Estado de Jalisco  Jalisco           2020-06-16   \n1  URALES  Gobierno del Estado de Jalisco  Jalisco           2020-06-16   \n\n  fecha_de_presentacion           Modalidad     Numero_de_procedimiento  \\\n0            2020-06-23  Licitación Pública  SIOP-E-SMA-OB-CSS-301-2020   \n1            2020-06-23  Licitación Pública  SIOP-E-SMA-OB-CSS-249-2020   \n\n                             link  \\\n0  /cgi-bin/pdf/nodisponible.html   \n1  /cgi-bin/pdf/nodisponible.html   \n\n                                         Descripcion Nuevo  \n0  Construcción del Centro de Salud Tala, CLUES J...    Si  \n1  Rehabilitación del Hospital Regional de Ameca,...    Si  ",
      "text/html": "<div>\n<style scoped>\n    .dataframe tbody tr th:only-of-type {\n        vertical-align: middle;\n    }\n\n    .dataframe tbody tr th {\n        vertical-align: top;\n    }\n\n    .dataframe thead th {\n        text-align: right;\n    }\n</style>\n<table border=\"1\" class=\"dataframe\">\n  <thead>\n    <tr style=\"text-align: right;\">\n      <th></th>\n      <th>interno</th>\n      <th>Dependencia</th>\n      <th>Lugar</th>\n      <th>fecha_de_publicacion</th>\n      <th>fecha_de_presentacion</th>\n      <th>Modalidad</th>\n      <th>Numero_de_procedimiento</th>\n      <th>link</th>\n      <th>Descripcion</th>\n      <th>Nuevo</th>\n    </tr>\n  </thead>\n  <tbody>\n    <tr>\n      <th>0</th>\n      <td>CUPISA</td>\n      <td>Gobierno del Estado de Jalisco</td>\n      <td>Jalisco</td>\n      <td>2020-06-16</td>\n      <td>2020-06-23</td>\n      <td>Licitación Pública</td>\n      <td>SIOP-E-SMA-OB-CSS-301-2020</td>\n      <td>/cgi-bin/pdf/nodisponible.html</td>\n      <td>Construcción del Centro de Salud Tala, CLUES J...</td>\n      <td>Si</td>\n    </tr>\n    <tr>\n      <th>1</th>\n      <td>URALES</td>\n      <td>Gobierno del Estado de Jalisco</td>\n      <td>Jalisco</td>\n      <td>2020-06-16</td>\n      <td>2020-06-23</td>\n      <td>Licitación Pública</td>\n      <td>SIOP-E-SMA-OB-CSS-249-2020</td>\n      <td>/cgi-bin/pdf/nodisponible.html</td>\n      <td>Rehabilitación del Hospital Regional de Ameca,...</td>\n      <td>Si</td>\n    </tr>\n  </tbody>\n</table>\n</div>"
     },
     "metadata": {},
     "execution_count": 17
    }
   ],
   "source": [
    "df_nodup"
   ]
  },
  {
   "cell_type": "code",
   "execution_count": 18,
   "metadata": {},
   "outputs": [
    {
     "output_type": "execute_result",
     "data": {
      "text/plain": "Timestamp('2020-06-14 00:00:00')"
     },
     "metadata": {},
     "execution_count": 18
    }
   ],
   "source": [
    "antier= date.today() - timedelta(days=2)\n",
    "pd.to_datetime(antier)"
   ]
  },
  {
   "cell_type": "code",
   "execution_count": null,
   "metadata": {},
   "outputs": [],
   "source": []
  }
 ],
 "metadata": {
  "language_info": {
   "codemirror_mode": {
    "name": "ipython",
    "version": 3
   },
   "file_extension": ".py",
   "mimetype": "text/x-python",
   "name": "python",
   "nbconvert_exporter": "python",
   "pygments_lexer": "ipython3",
   "version": "3.7.6-final"
  },
  "orig_nbformat": 2,
  "kernelspec": {
   "name": "python3",
   "display_name": "Python 3"
  }
 },
 "nbformat": 4,
 "nbformat_minor": 2
}